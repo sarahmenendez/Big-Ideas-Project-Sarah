{
 "cells": [
  {
   "cell_type": "markdown",
   "metadata": {},
   "source": [
    "# Final Project Notebook"
   ]
  },
  {
   "cell_type": "markdown",
   "metadata": {},
   "source": [
    "### Intro\n",
    "\n",
    "Our project uses three datasets with information about neighborhoods in Pittsburgh. Each dataset is analyzed to determine the best neighborhood according to that metric. Then data from all three datasets were analyzed together to determine the overall best neighborhood. Each used bar graphs and dictionaries to display and store our data. Since the beginning of the project, we decided on an environmentally driven metric because we think a healthy environment is an important attribute of neighborhoods. We stuck with this metric throughout the whole project."
   ]
  },
  {
   "cell_type": "markdown",
   "metadata": {},
   "source": [
    "### Metric\n",
    "\n",
    "Our metric is the quality of the environment. Metrics we looked at: \n",
    "* number of parks\n",
    "* tons of dump emptied illegally\n",
    "* numbeer of smart trash cans\n",
    "\n",
    "Datasets used:\n",
    "* City of Pittsburgh Parks\n",
    "* Allegheny County Illegal Dump Sites\n",
    "* Smart Trash Containers"
   ]
  },
  {
   "cell_type": "markdown",
   "metadata": {},
   "source": [
    "### The Best Neighborhood Analysis\n",
    "\n",
    "This code creates dictionaries that store the scores for each neihgborhood for each dataset individually"
   ]
  },
  {
   "cell_type": "code",
   "execution_count": null,
   "metadata": {},
   "outputs": [],
   "source": [
    "parks = dict()\n",
    "parks = {'Bedford Dwellings': 1, 'Bon Air': 1, 'Windgap': 1, 'Homewood West': 1, 'Arlington': 1, 'Stanton Heights': 1, 'East Carnegie': 1, 'East Hills': 1, 'Esplen': 1, 'Fairywood': 1, 'North Oakland': 1, 'Hays': 1, 'Homewood South': 1, 'Morningside': 1, 'Central Lawrenceville': 1, 'Oakwood': 1, 'Regent Square': 1, 'Upper Hill': 1, 'New Homestead': 1, 'West Oakland': 1, 'Bluff': 1, 'Middle Hill': 1, 'Squirrel Hill North': 1, 'Allegheny Center': 2, 'Banksville': 2, 'Homewood North': 2, 'Spring Garden': 2, 'Perry South': 2, 'Strip District': 2, 'Crafton Heights': 2, 'Allentown': 2, 'Duquesne Heights': 2, 'Fineview': 2, 'Perry North': 2, 'Highland Park': 2, 'Terrace Village': 2, 'Lincoln Place': 2, 'Polish Hill': 2, 'West End': 2, 'Crawford-Roberts': 2, 'North Shore': 2, 'Central Northside': 2, 'Lower Lawrenceville': 2, 'Brookline': 2, 'Lincoln-Lemington-Belmar': 2, 'Westwood': 2, 'Upper Lawrenceville': 2, 'Garfield': 2, 'Greenfield': 2, 'Larimer': 2, 'Bloomfield': 2, 'Spring Hill-City View': 2, 'Carrick': 2, 'Manchester': 2, 'Beltzhoover': 2, 'Point Breeze North': 2, 'Swisshelm Park': 2, 'Central Oakland': 3, 'Brighton Heights': 3, 'Elliott': 3, 'Marshall-Shadeland': 3, 'South Oakland': 3, 'Troy Hill': 3, 'South Side Flats': 4, 'Hazelwood': 4, 'Squirrel Hill South': 4, 'Mount Washington': 4, 'Sheraden': 4, 'South Side Slopes': 4, 'Point Breeze': 4, 'Beechview': 5, 'Central Business District': 5, 'East Liberty': 5}\n",
    "dumps = dict()\n",
    "dumps = {'Point Breeze North': 0.3, 'Strip District': 0.3, 'Homewood West': 0.5, 'Banksville': 1.0, 'Bedford Dwellings': 1.0, 'Bluff': 1.0, 'Borough of Millvale': 1.0, 'Northview Heights': 1.0, 'Sharpsburg': 1.0, 'West Wood': 1.0, 'California-Kirkbride': 1.3, 'Hays': 1.3, 'Central Oakland': 1.5, 'North Shore': 1.5, 'East Carnegie': 1.6, 'Summer Hill': 1.6, 'Downtown': 2.0, 'Glen Hazel': 2.0, 'Highland Park': 2.0, 'Terrace Village': 2.5, 'Windgap': 2.5, 'Morningside': 3.0, 'Penn Hills': 3.0, 'Saint Clair': 3.0, 'Overbrook': 3.2, 'Crafton Heights': 3.5999999999999996, 'South Oakland': 4.3, 'Swisshelm Park': 4.5, 'Bloomfield': 5.0, 'Southside Slopes': 5.0, 'Central Northside': 5.3, 'Polish Hill': 5.3, 'Squirrel Hill South': 5.3, 'North Oakland': 6.5, 'Elliott': 7.3, 'Upper Hill': 7.3999999999999995, 'Homewood North': 8.0, 'Troy Hill': 8.100000000000001, 'Perry North': 9.200000000000001, 'Chartiers City': 9.399999999999999, 'Knoxville': 9.5, 'Spring Garden': 9.6, 'Fairywood': 10.0, 'Allentown': 10.4, 'Beechview': 11.0, 'Crawford Roberts-Hill': 12.3, 'Homewood South': 12.900000000000002, 'Mt. Washington': 13.2, 'Esplen': 15.0, 'Larimer': 16.900000000000002, 'West Oakland': 17.3, 'Arlington': 17.5, 'East Hills': 17.8, 'Duquesne Heights': 19.0, 'New Homestead': 19.5, 'Stanton Heights': 21.7, 'Highland Park/Larimer': 25.0, 'Brookline': 35.7, 'Spring Hill': 38.800000000000004, 'West End': 47.199999999999974, 'Lincoln-Lemington-Belmar': 49.599999999999994, 'Duck Hollow': 102.3}\n",
    "trash = dict()\n",
    "trash = {'Northview Heights': 1, 'Mt. Oliver': 1, 'South Shore': 1, 'Windgap': 1, 'East Carnegie': 1, 'Bedford Dwellings': 1, 'Banksville': 1, 'St. Clair': 1, 'Oakwood': 1, 'Point Breeze North': 1, 'Homewood West': 1, 'East Hills': 1, 'Stanton Heights': 1, nan: 1, 'Swisshelm Park': 1, 'California-Kirkbride': 2, 'Manchester': 2, 'Fineview': 2, 'Spring Hill-City View': 2, 'Spring Garden': 2, 'Chateau': 2, 'Arlington': 2, 'Beltzhoover': 2, 'Westwood': 2, 'Duquesne Heights': 2, 'Terrace Village': 2, 'Homewood North': 2, 'Lincoln-Lemington-Belmar': 2, 'Central Northside': 3, 'Allegheny Center': 3, 'Garfield': 3, 'Morningside': 3, 'Beechview': 3, 'Central Business District': 3, 'South Oakland': 3, 'Allentown': 3, 'South Side Slopes': 3, 'West End': 3, 'Knoxville': 3, 'Crafton Heights': 3, 'Upper Hill': 3, 'West Oakland': 3, 'Lincoln Place': 3, 'Regent Square': 3, 'Marshall-Shadeland': 4, 'Perry North': 4, 'Perry South': 4, 'Allegheny West': 4, 'Troy Hill': 4, 'Brighton Heights': 4, 'Greenfield': 4, 'Point Breeze': 4, 'Brookline': 4, 'Highland Park': 4, 'Larimer': 4, 'Sheraden': 4, 'Elliott': 4, 'Crawford-Roberts': 4, 'Polish Hill': 4, 'North Oakland': 4, 'Hazelwood': 4, 'Squirrel Hill North': 4, 'Friendship': 4, 'Upper Lawrenceville': 4, 'East Allegheny': 5, 'Bluff': 5, 'East Liberty': 5, 'Carrick': 5, 'Shadyside': 5, 'Bloomfield': 5, 'South Side Flats': 5, 'Central Oakland': 5, 'Mount Washington': 5, 'North Shore': 5, 'Strip District': 5, 'Squirrel Hill South': 5, 'Central Lawrenceville': 5, 'Middle Hill': 5, 'Lower Lawrenceville': 5, 'Homewood South': 5}"
   ]
  }
 ],
 "metadata": {
  "kernelspec": {
   "display_name": "Python 3",
   "language": "python",
   "name": "python3"
  },
  "language_info": {
   "codemirror_mode": {
    "name": "ipython",
    "version": 3
   },
   "file_extension": ".py",
   "mimetype": "text/x-python",
   "name": "python",
   "nbconvert_exporter": "python",
   "pygments_lexer": "ipython3",
   "version": "3.8.3"
  }
 },
 "nbformat": 4,
 "nbformat_minor": 4
}
